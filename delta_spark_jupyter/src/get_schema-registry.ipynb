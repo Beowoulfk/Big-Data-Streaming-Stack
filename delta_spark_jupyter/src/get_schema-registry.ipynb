{
 "cells": [
  {
   "cell_type": "code",
   "execution_count": 7,
   "id": "158aabec",
   "metadata": {},
   "outputs": [
    {
     "data": {
      "text/plain": [
       "'{\"type\":\"record\",\"name\":\"CryptoSchema\",\"namespace\":\"io.codebrews.cryptoschema\",\"fields\":[{\"name\":\"id\",\"type\":\"string\"},{\"name\":\"rank\",\"type\":\"int\"},{\"name\":\"symbol\",\"type\":\"string\"},{\"name\":\"name\",\"type\":\"string\"},{\"name\":\"supply\",\"type\":[\"float\",\"null\"]},{\"name\":\"maxSupply\",\"type\":[\"float\",\"null\"]},{\"name\":\"marketCapUsd\",\"type\":[\"float\",\"null\"]},{\"name\":\"volumeUsd24Hr\",\"type\":[\"float\",\"null\"]},{\"name\":\"priceUsd\",\"type\":[\"float\",\"null\"]},{\"name\":\"changePercent24Hr\",\"type\":[\"float\",\"null\"]},{\"name\":\"vwap24Hr\",\"type\":[\"float\",\"null\"]},{\"name\":\"explorer\",\"type\":[\"string\",\"null\"]}]}'"
      ]
     },
     "execution_count": 7,
     "metadata": {},
     "output_type": "execute_result"
    }
   ],
   "source": [
    "# Retrieve GPS Schema grom Schema Registry\n",
    "\n",
    "from confluent_kafka.schema_registry import SchemaRegistryClient\n",
    "\n",
    "schema_registry_conf = {'url': \"http://schema-registry:8081\"}\n",
    "\n",
    "\n",
    "schema_registry_client = SchemaRegistryClient(schema_registry_conf)\n",
    "schema_response = schema_registry_client.get_latest_version(\"crypto-prices\" + \"-value\").schema\n",
    "schema = schema_response.schema_str\n",
    "schema"
   ]
  },
  {
   "cell_type": "code",
   "execution_count": 4,
   "id": "1e7673f4-4ba0-42c8-a0d0-3c9200ee072f",
   "metadata": {},
   "outputs": [
    {
     "name": "stdout",
     "output_type": "stream",
     "text": [
      "/opt/conda/lib/python3.9/site-packages/pyspark/__init__.py\n"
     ]
    }
   ],
   "source": [
    "import pyspark\n",
    "print(pyspark.__file__)"
   ]
  },
  {
   "cell_type": "code",
   "execution_count": 6,
   "id": "5158c3c5",
   "metadata": {
    "collapsed": true,
    "jupyter": {
     "outputs_hidden": true
    },
    "tags": []
   },
   "outputs": [
    {
     "name": "stdout",
     "output_type": "stream",
     "text": [
      "Collecting package metadata (current_repodata.json): done\n",
      "Solving environment: done\n",
      "\n",
      "## Package Plan ##\n",
      "\n",
      "  environment location: /opt/conda\n",
      "\n",
      "  added / updated specs:\n",
      "    - python-confluent-kafka\n",
      "\n",
      "\n",
      "The following packages will be downloaded:\n",
      "\n",
      "    package                    |            build\n",
      "    ---------------------------|-----------------\n",
      "    cyrus-sasl-2.1.27          |       h230043b_5         228 KB  conda-forge\n",
      "    gettext-0.19.8.1           |    h73d1719_1008         3.6 MB  conda-forge\n",
      "    libgcrypt-1.10.0           |       h7f98852_0         705 KB  conda-forge\n",
      "    libgpg-error-1.44          |       h9eb791d_0         294 KB  conda-forge\n",
      "    libgsasl-1.10.0            |       h5b4c23d_0         179 KB  conda-forge\n",
      "    libntlm-1.4                |    h7f98852_1002          32 KB  conda-forge\n",
      "    librdkafka-1.7.0           |       hc49e61c_1        12.9 MB  conda-forge\n",
      "    python-confluent-kafka-1.7.0|   py39h3811e60_2         132 KB  conda-forge\n",
      "    ------------------------------------------------------------\n",
      "                                           Total:        18.0 MB\n",
      "\n",
      "The following NEW packages will be INSTALLED:\n",
      "\n",
      "  cyrus-sasl         conda-forge/linux-64::cyrus-sasl-2.1.27-h230043b_5\n",
      "  gettext            conda-forge/linux-64::gettext-0.19.8.1-h73d1719_1008\n",
      "  libgcrypt          conda-forge/linux-64::libgcrypt-1.10.0-h7f98852_0\n",
      "  libgpg-error       conda-forge/linux-64::libgpg-error-1.44-h9eb791d_0\n",
      "  libgsasl           conda-forge/linux-64::libgsasl-1.10.0-h5b4c23d_0\n",
      "  libntlm            conda-forge/linux-64::libntlm-1.4-h7f98852_1002\n",
      "  librdkafka         conda-forge/linux-64::librdkafka-1.7.0-hc49e61c_1\n",
      "  python-confluent-~ conda-forge/linux-64::python-confluent-kafka-1.7.0-py39h3811e60_2\n",
      "\n",
      "\n",
      "\n",
      "Downloading and Extracting Packages\n",
      "libgcrypt-1.10.0     | 705 KB    | ##################################### | 100% \n",
      "gettext-0.19.8.1     | 3.6 MB    | ##################################### | 100% \n",
      "cyrus-sasl-2.1.27    | 228 KB    | ##################################### | 100% \n",
      "python-confluent-kaf | 132 KB    | ##################################### | 100% \n",
      "libgsasl-1.10.0      | 179 KB    | ##################################### | 100% \n",
      "libgpg-error-1.44    | 294 KB    | ##################################### | 100% \n",
      "librdkafka-1.7.0     | 12.9 MB   | ##################################### | 100% \n",
      "libntlm-1.4          | 32 KB     | ##################################### | 100% \n",
      "Preparing transaction: done\n",
      "Verifying transaction: done\n",
      "Executing transaction: done\n"
     ]
    }
   ],
   "source": [
    "!conda install -c conda-forge python-confluent-kafka -y"
   ]
  },
  {
   "cell_type": "code",
   "execution_count": null,
   "id": "4a07b274",
   "metadata": {},
   "outputs": [],
   "source": [
    "...\n",
    "    environment:\n",
    "      - PYSPARK_SUBMIT_ARGS=--packages com.amazonaws:aws-java-sdk-bundle:1.11.819,org.apache.hadoop:hadoop-aws:3.2.0 pyspark-shell\n",
    "..."
   ]
  },
  {
   "cell_type": "code",
   "execution_count": null,
   "id": "8a559d27",
   "metadata": {},
   "outputs": [],
   "source": [
    "# os.environ['PYSPARK_SUBMIT_ARGS'] = \"\"\"--packages org.apache.spark:spark-avro_2.12:3.2.1,org.apache.spark:spark-sql-kafka-0-10_2.12:3.1.2,org.apache.spark:spark-streaming-kafka-0-10_2.13:3.2.1,io.delta:delta-core_2.12:1.1.0,com.amazonaws:aws-java-sdk:1.11.950,org.apache.hadoop:hadoop-aws:3.2.0,net.java.dev.jets3t:jets3t:0.9.4 pyspark-shell\"\"\"\n"
   ]
  }
 ],
 "metadata": {
  "kernelspec": {
   "display_name": "Python (base)",
   "language": "python",
   "name": "base"
  },
  "language_info": {
   "codemirror_mode": {
    "name": "ipython",
    "version": 3
   },
   "file_extension": ".py",
   "mimetype": "text/x-python",
   "name": "python",
   "nbconvert_exporter": "python",
   "pygments_lexer": "ipython3",
   "version": "3.9.7"
  }
 },
 "nbformat": 4,
 "nbformat_minor": 5
}